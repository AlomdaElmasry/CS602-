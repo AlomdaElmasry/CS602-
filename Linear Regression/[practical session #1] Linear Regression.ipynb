{
 "cells": [
  {
   "cell_type": "markdown",
   "metadata": {},
   "source": [
    "# Linear Regression"
   ]
  },
  {
   "cell_type": "markdown",
   "metadata": {},
   "source": [
    "## Import liberaries\n",
    "pandas: Loading Data\n",
    "<br>\n",
    "matplotlib: visualizing data\n",
    "<br>\n",
    "numpy: Numerical Linear Algebra"
   ]
  },
  {
   "cell_type": "code",
   "execution_count": 1,
   "metadata": {},
   "outputs": [],
   "source": [
    "import pandas as pd\n",
    "import matplotlib.pyplot as plt\n",
    "import numpy as np"
   ]
  },
  {
   "cell_type": "markdown",
   "metadata": {},
   "source": [
    "## Load Data\n",
    "we have file 'data.csv' contains the dataset of our linear regression problem. The first column is the population of the city and the second column is the profit of having the store in that city."
   ]
  },
  {
   "cell_type": "code",
   "execution_count": 2,
   "metadata": {},
   "outputs": [],
   "source": [
    "data = pd.read_csv('data.csv')\n",
    "x = data['population']\n",
    "y = data['profit']"
   ]
  },
  {
   "cell_type": "markdown",
   "metadata": {},
   "source": [
    "## Data scattering"
   ]
  },
  {
   "cell_type": "code",
   "execution_count": 3,
   "metadata": {},
   "outputs": [
    {
     "data": {
      "image/png": "[encoded data removed]",
      "text/plain": [
       "<matplotlib.figure.Figure at 0x7ff984ec0710>"
      ]
     },
     "metadata": {},
     "output_type": "display_data"
    }
   ],
   "source": [
    "plt.scatter(x,y)\n",
    "plt.show()"
   ]
  },
  {
   "cell_type": "markdown",
   "metadata": {},
   "source": [
    "# Linear Regression with one variable\n",
    "## Gradient Descent\n",
    "Start with initial random values of theta0 and theta1"
   ]
  },
  {
   "cell_type": "code",
   "execution_count": 4,
   "metadata": {},
   "outputs": [],
   "source": [
    "theta = np.random.rand(2) "
   ]
  },
  {
   "cell_type": "markdown",
   "metadata": {},
   "source": [
    "some gradient descent settings"
   ]
  },
  {
   "cell_type": "code",
   "execution_count": 5,
   "metadata": {},
   "outputs": [],
   "source": [
    "learning_rate = 0.01 #step size\n",
    "max_itr = 100 #number of iterations\n",
    "precision = 0.001 \n",
    "converged = False \n",
    "n = len(x) #number of training samples"
   ]
  },
  {
   "cell_type": "markdown",
   "metadata": {},
   "source": [
    "Performs gradient descent to learn theta0 and theta1 by taking num_items gradient steps with predefined learning rate and update theata0, theata1\n",
    "<br>\n",
    "the loop stop when finishing the maximum number of iterations OR achieve precision less than the predefined precision value\n",
    "<br>\n",
    "mean square error is calculated and plotted. The plot shows that the error decreases every iteration."
   ]
  },
  {
   "cell_type": "code",
   "execution_count": 6,
   "metadata": {},
   "outputs": [
    {
     "data": {
      "image/png": "[encoded data removed]",
      "text/plain": [
       "<matplotlib.figure.Figure at 0x7ff982ba02b0>"
      ]
     },
     "metadata": {},
     "output_type": "display_data"
    }
   ],
   "source": [
    "J = 1.0 / n * ((theta[0] + theta[1] * x - y) ** 2).sum()\n",
    "itr = 0\n",
    "while not converged:\n",
    "    prediction = theta[0] + theta[1] * x\n",
    "    \n",
    "    grad0 = 1.0 / n * (prediction - y).sum()\n",
    "    grad1 = 1.0 / n * ((prediction - y) * x).sum()\n",
    "    \n",
    "    theta[0] = theta[0] - learning_rate * grad0\n",
    "    theta[1] = theta[1] - learning_rate * grad1\n",
    "    \n",
    "    error = 1.0 / n * ((theta[0] + theta[1] * x - y) ** 2).sum()\n",
    "    plt.scatter(theta[0], error)\n",
    "    if abs(J - error) < precision:\n",
    "        converged = True\n",
    "    if itr == max_itr:\n",
    "        converged = True\n",
    "    itr += 1\n",
    "    J = error\n",
    "    \n",
    "    \n",
    "plt.show()"
   ]
  },
  {
   "cell_type": "markdown",
   "metadata": {},
   "source": [
    "## Use the last values of theta0 and theta1 to predict the output of the given input. \n",
    "## prdicted line is plotted."
   ]
  },
  {
   "cell_type": "code",
   "execution_count": 7,
   "metadata": {},
   "outputs": [
    {
     "data": {
      "image/png": "[encoded data removed]",
      "text/plain": [
       "<matplotlib.figure.Figure at 0x7ff982b3d518>"
      ]
     },
     "metadata": {},
     "output_type": "display_data"
    }
   ],
   "source": [
    "prediction = theta[0] + theta[1] * x\n",
    "plt.scatter(x,y)\n",
    "plt.plot(x, prediction, 'r')\n",
    "plt.show()"
   ]
  },
  {
   "cell_type": "markdown",
   "metadata": {},
   "source": [
    "## predict the profit for population size 16.5"
   ]
  },
  {
   "cell_type": "code",
   "execution_count": 8,
   "metadata": {},
   "outputs": [
    {
     "name": "stdout",
     "output_type": "stream",
     "text": [
      "13.0653701263\n"
     ]
    }
   ],
   "source": [
    "perd1 = theta[0] + theta[1] * 16.5\n",
    "print(perd1)"
   ]
  }
 ],
 "metadata": {
  "kernelspec": {
   "display_name": "Python 3",
   "language": "python",
   "name": "python3"
  },
  "language_info": {
   "codemirror_mode": {
    "name": "ipython",
    "version": 3
   },
   "file_extension": ".py",
   "mimetype": "text/x-python",
   "name": "python",
   "nbconvert_exporter": "python",
   "pygments_lexer": "ipython3",
   "version": "3.5.2"
  }
 },
 "nbformat": 4,
 "nbformat_minor": 2
}
